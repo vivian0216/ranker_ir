{
 "cells": [
  {
   "cell_type": "code",
   "execution_count": 9,
   "metadata": {},
   "outputs": [
    {
     "name": "stdout",
     "output_type": "stream",
     "text": [
      "The autoreload extension is already loaded. To reload it, use:\n",
      "  %reload_ext autoreload\n"
     ]
    }
   ],
   "source": [
    "%load_ext autoreload\n",
    "%autoreload 2\n",
    "\n",
    "import torch\n",
    "import pyterrier as pt\n",
    "import pandas as pd\n",
    "\n",
    "from src.neural_ranker.ranker import NeuralRanker\n",
    "from src.neural_ranker.produce_rankings import IRDataset, Processor\n",
    "from src.llm.llm import LLM_zeroshot, LLM_query_exp\n",
    "from domain_adaptation import self_training_domain_adaptation\n",
    "from main import rank_with_base_model, contrastive_train_neural_ranker, rank_with_contrastive_model, pseudo_labels_fine_tune, rank_with_pseudo_labels_model\n",
    "from eval import Model, evaluate_rankings"
   ]
  },
  {
   "cell_type": "code",
   "execution_count": 2,
   "metadata": {},
   "outputs": [
    {
     "name": "stdout",
     "output_type": "stream",
     "text": [
      "Using device: cuda\n",
      "GPU Memory: Total: 15.99GB, Reserved: 0.00GB, Allocated: 0.00GB, Free: 15.99GB\n"
     ]
    }
   ],
   "source": [
    "# Check for GPU\n",
    "device = torch.device(\"cuda\" if torch.cuda.is_available() else \"cpu\")\n",
    "print(f\"Using device: {device}\")\n",
    "\n",
    "if torch.cuda.is_available():\n",
    "    gpu_mem_total = torch.cuda.get_device_properties(0).total_memory / 1024**3\n",
    "    gpu_mem_reserved = torch.cuda.memory_reserved(0) / 1024**3\n",
    "    gpu_mem_allocated = torch.cuda.memory_allocated(0) / 1024**3\n",
    "    gpu_mem_free = gpu_mem_total - gpu_mem_reserved\n",
    "    print(f\"GPU Memory: Total: {gpu_mem_total:.2f}GB, Reserved: {gpu_mem_reserved:.2f}GB, \"\n",
    "        f\"Allocated: {gpu_mem_allocated:.2f}GB, Free: {gpu_mem_free:.2f}GB\")"
   ]
  },
  {
   "cell_type": "code",
   "execution_count": 3,
   "metadata": {},
   "outputs": [
    {
     "name": "stdout",
     "output_type": "stream",
     "text": [
      "Loading up to None documents from irds:beir/trec-covid...\n"
     ]
    },
    {
     "name": "stderr",
     "output_type": "stream",
     "text": [
      "beir/trec-covid documents: 100%|██████████| 171332/171332 [00:00<00:00, 302268.09it/s]\n",
      "Loading Documents: 171332it [00:00, 302267.07it/s]\n"
     ]
    },
    {
     "name": "stdout",
     "output_type": "stream",
     "text": [
      "Loading up to None documents from irds:cord19/trec-covid...\n"
     ]
    },
    {
     "name": "stderr",
     "output_type": "stream",
     "text": [
      "cord19/trec-covid documents: 100%|██████████| 192509/192509 [00:00<00:00, 310197.61it/s]\n",
      "Loading Documents: 192509it [00:00, 310197.61it/s]\n"
     ]
    }
   ],
   "source": [
    "bair = 'irds:beir/trec-covid'\n",
    "cord19 = 'irds:cord19/trec-covid'\n",
    "\n",
    "bair_dataset = IRDataset(bair, max_docs=None)\n",
    "cord19_dataset = IRDataset(cord19, max_docs=None)"
   ]
  },
  {
   "cell_type": "code",
   "execution_count": 4,
   "metadata": {},
   "outputs": [
    {
     "name": "stdout",
     "output_type": "stream",
     "text": [
      "Checking for existing embeddings...\n",
      "Loaded 192509 existing document embeddings.\n",
      "Document encoding complete. Now ranking queries...\n",
      "There are multiple query fields available: ('title', 'description', 'narrative'). To use with pyterrier, provide variant or modify dataframe to add query column.\n",
      "Loaded 50 queries\n",
      "Ranking 50 queries against 192509 documents...\n"
     ]
    },
    {
     "name": "stderr",
     "output_type": "stream",
     "text": [
      "Ranking Queries: 100%|██████████| 50/50 [00:27<00:00,  1.85it/s]\n"
     ]
    }
   ],
   "source": [
    "rank_with_base_model(cord19_dataset, device)"
   ]
  },
  {
   "cell_type": "code",
   "execution_count": 6,
   "metadata": {},
   "outputs": [
    {
     "name": "stdout",
     "output_type": "stream",
     "text": [
      "Loading dataset...\n",
      "Loading up to None documents from irds:beir/trec-covid...\n"
     ]
    },
    {
     "name": "stderr",
     "output_type": "stream",
     "text": [
      "beir/trec-covid documents: 100%|██████████| 171332/171332 [00:00<00:00, 318056.10it/s]\n",
      "Loading Documents: 171332it [00:00, 318647.87it/s]\n"
     ]
    },
    {
     "name": "stdout",
     "output_type": "stream",
     "text": [
      "Processing documents...\n"
     ]
    },
    {
     "name": "stderr",
     "output_type": "stream",
     "text": [
      "Processing documents: 100%|██████████| 171332/171332 [00:00<00:00, 1146138.45it/s]\n"
     ]
    },
    {
     "name": "stdout",
     "output_type": "stream",
     "text": [
      "Loaded 171332 documents for contrastive training.\n",
      "\n",
      "Initializing augmentor...\n",
      "Creating contrastive dataset...\n",
      "\n",
      "Creating dataloader...\n",
      "\n",
      "Dataloader configuration: batch_size=8, num_workers=0\n",
      "\n",
      "Initializing model...\n",
      "Model has 109,482,240 trainable parameters\n",
      "\n",
      "Initializing trainer...\n",
      "\n",
      "Training for up to 3 epochs with early stopping (patience=2, min_delta=0.001)...\n"
     ]
    },
    {
     "name": "stderr",
     "output_type": "stream",
     "text": [
      "Epoch 1/3:   1%|▏         | 318/21417 [01:29<1:39:02,  3.55it/s, loss=0.0010]"
     ]
    },
    {
     "name": "stdout",
     "output_type": "stream",
     "text": [
      "Loss 0.000999 is below threshold. Stopping early.\n",
      "\n",
      "Saving model to models/contrastive_model.pt...\n"
     ]
    },
    {
     "name": "stderr",
     "output_type": "stream",
     "text": [
      "\n"
     ]
    },
    {
     "name": "stdout",
     "output_type": "stream",
     "text": [
      "Model saved successfully!\n"
     ]
    }
   ],
   "source": [
    "contrastive_train_neural_ranker(device=device)"
   ]
  },
  {
   "cell_type": "code",
   "execution_count": 13,
   "metadata": {},
   "outputs": [
    {
     "name": "stderr",
     "output_type": "stream",
     "text": [
      "c:\\Users\\bogda\\Desktop\\TU Delft\\Q3\\DSAIT4050-IR\\research_project\\ranker_ir\\main.py:108: FutureWarning: You are using `torch.load` with `weights_only=False` (the current default value), which uses the default pickle module implicitly. It is possible to construct malicious pickle data which will execute arbitrary code during unpickling (See https://github.com/pytorch/pytorch/blob/main/SECURITY.md#untrusted-models for more details). In a future release, the default value for `weights_only` will be flipped to `True`. This limits the functions that could be executed during unpickling. Arbitrary objects will no longer be allowed to be loaded via this mode unless they are explicitly allowlisted by the user via `torch.serialization.add_safe_globals`. We recommend you start setting `weights_only=True` for any use case where you don't have full control of the loaded file. Please open an issue on GitHub for any issues related to this experimental feature.\n",
      "  ranker.load_state_dict(torch.load(\"models/domain_adapted_model.pt\", map_location=mydevice))\n"
     ]
    },
    {
     "name": "stdout",
     "output_type": "stream",
     "text": [
      "Checking for existing embeddings...\n",
      "No existing embeddings found or file corrupted. Starting from scratch.\n",
      "\n",
      "Processing chunk 1/39 (documents 0 to 4999)...\n"
     ]
    },
    {
     "name": "stderr",
     "output_type": "stream",
     "text": [
      "Encoding Chunk 1: 100%|██████████| 79/79 [00:24<00:00,  3.20it/s]\n"
     ]
    },
    {
     "name": "stdout",
     "output_type": "stream",
     "text": [
      "\n",
      "Processing chunk 2/39 (documents 5000 to 9999)...\n"
     ]
    },
    {
     "name": "stderr",
     "output_type": "stream",
     "text": [
      "Encoding Chunk 2: 100%|██████████| 79/79 [00:23<00:00,  3.39it/s]\n"
     ]
    },
    {
     "name": "stdout",
     "output_type": "stream",
     "text": [
      "\n",
      "Processing chunk 3/39 (documents 10000 to 14999)...\n"
     ]
    },
    {
     "name": "stderr",
     "output_type": "stream",
     "text": [
      "Encoding Chunk 3: 100%|██████████| 79/79 [00:23<00:00,  3.43it/s]\n"
     ]
    },
    {
     "name": "stdout",
     "output_type": "stream",
     "text": [
      "\n",
      "Processing chunk 4/39 (documents 15000 to 19999)...\n"
     ]
    },
    {
     "name": "stderr",
     "output_type": "stream",
     "text": [
      "Encoding Chunk 4: 100%|██████████| 79/79 [00:20<00:00,  3.79it/s]\n"
     ]
    },
    {
     "name": "stdout",
     "output_type": "stream",
     "text": [
      "\n",
      "Processing chunk 5/39 (documents 20000 to 24999)...\n"
     ]
    },
    {
     "name": "stderr",
     "output_type": "stream",
     "text": [
      "Encoding Chunk 5: 100%|██████████| 79/79 [00:22<00:00,  3.59it/s]\n"
     ]
    },
    {
     "name": "stdout",
     "output_type": "stream",
     "text": [
      "\n",
      "Processing chunk 6/39 (documents 25000 to 29999)...\n"
     ]
    },
    {
     "name": "stderr",
     "output_type": "stream",
     "text": [
      "Encoding Chunk 6: 100%|██████████| 79/79 [00:23<00:00,  3.35it/s]\n"
     ]
    },
    {
     "name": "stdout",
     "output_type": "stream",
     "text": [
      "\n",
      "Processing chunk 7/39 (documents 30000 to 34999)...\n"
     ]
    },
    {
     "name": "stderr",
     "output_type": "stream",
     "text": [
      "Encoding Chunk 7: 100%|██████████| 79/79 [00:24<00:00,  3.24it/s]\n"
     ]
    },
    {
     "name": "stdout",
     "output_type": "stream",
     "text": [
      "\n",
      "Processing chunk 8/39 (documents 35000 to 39999)...\n"
     ]
    },
    {
     "name": "stderr",
     "output_type": "stream",
     "text": [
      "Encoding Chunk 8: 100%|██████████| 79/79 [00:24<00:00,  3.24it/s]\n"
     ]
    },
    {
     "name": "stdout",
     "output_type": "stream",
     "text": [
      "\n",
      "Processing chunk 9/39 (documents 40000 to 44999)...\n"
     ]
    },
    {
     "name": "stderr",
     "output_type": "stream",
     "text": [
      "Encoding Chunk 9: 100%|██████████| 79/79 [00:24<00:00,  3.24it/s]\n"
     ]
    },
    {
     "name": "stdout",
     "output_type": "stream",
     "text": [
      "\n",
      "Processing chunk 10/39 (documents 45000 to 49999)...\n"
     ]
    },
    {
     "name": "stderr",
     "output_type": "stream",
     "text": [
      "Encoding Chunk 10: 100%|██████████| 79/79 [00:24<00:00,  3.23it/s]\n"
     ]
    },
    {
     "name": "stdout",
     "output_type": "stream",
     "text": [
      "\n",
      "Processing chunk 11/39 (documents 50000 to 54999)...\n"
     ]
    },
    {
     "name": "stderr",
     "output_type": "stream",
     "text": [
      "Encoding Chunk 11: 100%|██████████| 79/79 [00:24<00:00,  3.24it/s]\n"
     ]
    },
    {
     "name": "stdout",
     "output_type": "stream",
     "text": [
      "\n",
      "Processing chunk 12/39 (documents 55000 to 59999)...\n"
     ]
    },
    {
     "name": "stderr",
     "output_type": "stream",
     "text": [
      "Encoding Chunk 12: 100%|██████████| 79/79 [00:24<00:00,  3.24it/s]\n"
     ]
    },
    {
     "name": "stdout",
     "output_type": "stream",
     "text": [
      "\n",
      "Processing chunk 13/39 (documents 60000 to 64999)...\n"
     ]
    },
    {
     "name": "stderr",
     "output_type": "stream",
     "text": [
      "Encoding Chunk 13: 100%|██████████| 79/79 [00:24<00:00,  3.24it/s]\n"
     ]
    },
    {
     "name": "stdout",
     "output_type": "stream",
     "text": [
      "\n",
      "Processing chunk 14/39 (documents 65000 to 69999)...\n"
     ]
    },
    {
     "name": "stderr",
     "output_type": "stream",
     "text": [
      "Encoding Chunk 14: 100%|██████████| 79/79 [00:24<00:00,  3.22it/s]\n"
     ]
    },
    {
     "name": "stdout",
     "output_type": "stream",
     "text": [
      "\n",
      "Processing chunk 15/39 (documents 70000 to 74999)...\n"
     ]
    },
    {
     "name": "stderr",
     "output_type": "stream",
     "text": [
      "Encoding Chunk 15: 100%|██████████| 79/79 [00:24<00:00,  3.25it/s]\n"
     ]
    },
    {
     "name": "stdout",
     "output_type": "stream",
     "text": [
      "\n",
      "Processing chunk 16/39 (documents 75000 to 79999)...\n"
     ]
    },
    {
     "name": "stderr",
     "output_type": "stream",
     "text": [
      "Encoding Chunk 16: 100%|██████████| 79/79 [00:24<00:00,  3.25it/s]\n"
     ]
    },
    {
     "name": "stdout",
     "output_type": "stream",
     "text": [
      "\n",
      "Processing chunk 17/39 (documents 80000 to 84999)...\n"
     ]
    },
    {
     "name": "stderr",
     "output_type": "stream",
     "text": [
      "Encoding Chunk 17: 100%|██████████| 79/79 [00:24<00:00,  3.26it/s]\n"
     ]
    },
    {
     "name": "stdout",
     "output_type": "stream",
     "text": [
      "\n",
      "Processing chunk 18/39 (documents 85000 to 89999)...\n"
     ]
    },
    {
     "name": "stderr",
     "output_type": "stream",
     "text": [
      "Encoding Chunk 18: 100%|██████████| 79/79 [00:24<00:00,  3.26it/s]\n"
     ]
    },
    {
     "name": "stdout",
     "output_type": "stream",
     "text": [
      "\n",
      "Processing chunk 19/39 (documents 90000 to 94999)...\n"
     ]
    },
    {
     "name": "stderr",
     "output_type": "stream",
     "text": [
      "Encoding Chunk 19: 100%|██████████| 79/79 [00:23<00:00,  3.33it/s]\n"
     ]
    },
    {
     "name": "stdout",
     "output_type": "stream",
     "text": [
      "\n",
      "Processing chunk 20/39 (documents 95000 to 99999)...\n"
     ]
    },
    {
     "name": "stderr",
     "output_type": "stream",
     "text": [
      "Encoding Chunk 20: 100%|██████████| 79/79 [00:23<00:00,  3.32it/s]\n"
     ]
    },
    {
     "name": "stdout",
     "output_type": "stream",
     "text": [
      "\n",
      "Processing chunk 21/39 (documents 100000 to 104999)...\n"
     ]
    },
    {
     "name": "stderr",
     "output_type": "stream",
     "text": [
      "Encoding Chunk 21: 100%|██████████| 79/79 [00:23<00:00,  3.29it/s]\n"
     ]
    },
    {
     "name": "stdout",
     "output_type": "stream",
     "text": [
      "\n",
      "Processing chunk 22/39 (documents 105000 to 109999)...\n"
     ]
    },
    {
     "name": "stderr",
     "output_type": "stream",
     "text": [
      "Encoding Chunk 22: 100%|██████████| 79/79 [00:23<00:00,  3.30it/s]\n"
     ]
    },
    {
     "name": "stdout",
     "output_type": "stream",
     "text": [
      "\n",
      "Processing chunk 23/39 (documents 110000 to 114999)...\n"
     ]
    },
    {
     "name": "stderr",
     "output_type": "stream",
     "text": [
      "Encoding Chunk 23: 100%|██████████| 79/79 [00:23<00:00,  3.32it/s]\n"
     ]
    },
    {
     "name": "stdout",
     "output_type": "stream",
     "text": [
      "\n",
      "Processing chunk 24/39 (documents 115000 to 119999)...\n"
     ]
    },
    {
     "name": "stderr",
     "output_type": "stream",
     "text": [
      "Encoding Chunk 24: 100%|██████████| 79/79 [00:24<00:00,  3.29it/s]\n"
     ]
    },
    {
     "name": "stdout",
     "output_type": "stream",
     "text": [
      "\n",
      "Processing chunk 25/39 (documents 120000 to 124999)...\n"
     ]
    },
    {
     "name": "stderr",
     "output_type": "stream",
     "text": [
      "Encoding Chunk 25: 100%|██████████| 79/79 [00:23<00:00,  3.33it/s]\n"
     ]
    },
    {
     "name": "stdout",
     "output_type": "stream",
     "text": [
      "\n",
      "Processing chunk 26/39 (documents 125000 to 129999)...\n"
     ]
    },
    {
     "name": "stderr",
     "output_type": "stream",
     "text": [
      "Encoding Chunk 26: 100%|██████████| 79/79 [00:23<00:00,  3.31it/s]\n"
     ]
    },
    {
     "name": "stdout",
     "output_type": "stream",
     "text": [
      "\n",
      "Processing chunk 27/39 (documents 130000 to 134999)...\n"
     ]
    },
    {
     "name": "stderr",
     "output_type": "stream",
     "text": [
      "Encoding Chunk 27: 100%|██████████| 79/79 [00:24<00:00,  3.29it/s]\n"
     ]
    },
    {
     "name": "stdout",
     "output_type": "stream",
     "text": [
      "\n",
      "Processing chunk 28/39 (documents 135000 to 139999)...\n"
     ]
    },
    {
     "name": "stderr",
     "output_type": "stream",
     "text": [
      "Encoding Chunk 28: 100%|██████████| 79/79 [00:24<00:00,  3.25it/s]\n"
     ]
    },
    {
     "name": "stdout",
     "output_type": "stream",
     "text": [
      "\n",
      "Processing chunk 29/39 (documents 140000 to 144999)...\n"
     ]
    },
    {
     "name": "stderr",
     "output_type": "stream",
     "text": [
      "Encoding Chunk 29: 100%|██████████| 79/79 [00:24<00:00,  3.26it/s]\n"
     ]
    },
    {
     "name": "stdout",
     "output_type": "stream",
     "text": [
      "\n",
      "Processing chunk 30/39 (documents 145000 to 149999)...\n"
     ]
    },
    {
     "name": "stderr",
     "output_type": "stream",
     "text": [
      "Encoding Chunk 30: 100%|██████████| 79/79 [00:24<00:00,  3.25it/s]\n"
     ]
    },
    {
     "name": "stdout",
     "output_type": "stream",
     "text": [
      "\n",
      "Processing chunk 31/39 (documents 150000 to 154999)...\n"
     ]
    },
    {
     "name": "stderr",
     "output_type": "stream",
     "text": [
      "Encoding Chunk 31: 100%|██████████| 79/79 [00:24<00:00,  3.25it/s]\n"
     ]
    },
    {
     "name": "stdout",
     "output_type": "stream",
     "text": [
      "\n",
      "Processing chunk 32/39 (documents 155000 to 159999)...\n"
     ]
    },
    {
     "name": "stderr",
     "output_type": "stream",
     "text": [
      "Encoding Chunk 32: 100%|██████████| 79/79 [00:24<00:00,  3.26it/s]\n"
     ]
    },
    {
     "name": "stdout",
     "output_type": "stream",
     "text": [
      "\n",
      "Processing chunk 33/39 (documents 160000 to 164999)...\n"
     ]
    },
    {
     "name": "stderr",
     "output_type": "stream",
     "text": [
      "Encoding Chunk 33: 100%|██████████| 79/79 [00:25<00:00,  3.15it/s]\n"
     ]
    },
    {
     "name": "stdout",
     "output_type": "stream",
     "text": [
      "\n",
      "Processing chunk 34/39 (documents 165000 to 169999)...\n"
     ]
    },
    {
     "name": "stderr",
     "output_type": "stream",
     "text": [
      "Encoding Chunk 34: 100%|██████████| 79/79 [00:24<00:00,  3.22it/s]\n"
     ]
    },
    {
     "name": "stdout",
     "output_type": "stream",
     "text": [
      "\n",
      "Processing chunk 35/39 (documents 170000 to 174999)...\n"
     ]
    },
    {
     "name": "stderr",
     "output_type": "stream",
     "text": [
      "Encoding Chunk 35: 100%|██████████| 79/79 [00:24<00:00,  3.18it/s]\n"
     ]
    },
    {
     "name": "stdout",
     "output_type": "stream",
     "text": [
      "\n",
      "Processing chunk 36/39 (documents 175000 to 179999)...\n"
     ]
    },
    {
     "name": "stderr",
     "output_type": "stream",
     "text": [
      "Encoding Chunk 36: 100%|██████████| 79/79 [00:25<00:00,  3.10it/s]\n"
     ]
    },
    {
     "name": "stdout",
     "output_type": "stream",
     "text": [
      "\n",
      "Processing chunk 37/39 (documents 180000 to 184999)...\n"
     ]
    },
    {
     "name": "stderr",
     "output_type": "stream",
     "text": [
      "Encoding Chunk 37: 100%|██████████| 79/79 [00:25<00:00,  3.09it/s]\n"
     ]
    },
    {
     "name": "stdout",
     "output_type": "stream",
     "text": [
      "\n",
      "Processing chunk 38/39 (documents 185000 to 189999)...\n"
     ]
    },
    {
     "name": "stderr",
     "output_type": "stream",
     "text": [
      "Encoding Chunk 38: 100%|██████████| 79/79 [00:24<00:00,  3.21it/s]\n"
     ]
    },
    {
     "name": "stdout",
     "output_type": "stream",
     "text": [
      "\n",
      "Processing chunk 39/39 (documents 190000 to 192508)...\n"
     ]
    },
    {
     "name": "stderr",
     "output_type": "stream",
     "text": [
      "Encoding Chunk 39: 100%|██████████| 40/40 [00:12<00:00,  3.25it/s]\n"
     ]
    },
    {
     "name": "stdout",
     "output_type": "stream",
     "text": [
      "Completed processing 192509 documents.\n",
      "Document encoding complete. Now ranking queries...\n",
      "There are multiple query fields available: ('title', 'description', 'narrative'). To use with pyterrier, provide variant or modify dataframe to add query column.\n",
      "Loaded 50 queries\n",
      "Ranking 50 queries against 192509 documents...\n"
     ]
    },
    {
     "name": "stderr",
     "output_type": "stream",
     "text": [
      "Ranking Queries: 100%|██████████| 50/50 [00:32<00:00,  1.53it/s]\n"
     ]
    }
   ],
   "source": [
    "rank_with_contrastive_model(cord19_dataset, device)"
   ]
  },
  {
   "cell_type": "code",
   "execution_count": 11,
   "metadata": {},
   "outputs": [
    {
     "name": "stdout",
     "output_type": "stream",
     "text": [
      "Evaluating rankings with metrics@10...\n",
      "Loaded 9625450 ranking entries\n",
      "\n",
      "=== Evaluation Results ===\n",
      "map: 0.1859\n",
      "ndcg: 0.6866\n",
      "ndcg_cut_10: 0.6570\n",
      "P_10: 0.6880\n",
      "recall_10: 0.0165\n",
      "recip_rank: 0.8403\n",
      "\n",
      "Evaluation results saved to evaluation_results/base\\evaluation_results.csv\n",
      "\n",
      "Per-query evaluation results:\n",
      "Query 1:\n",
      "    map: 0.1281\n",
      "    recip_rank: 1.0000\n",
      "    P_10: 0.5000\n",
      "    recall_10: 0.0072\n",
      "    ndcg: 0.6776\n",
      "    ndcg_cut_10: 0.4959\n",
      "-------------------------\n",
      "\n",
      "Query 2:\n",
      "    map: 0.0585\n",
      "    recip_rank: 0.5000\n",
      "    P_10: 0.6000\n",
      "    recall_10: 0.0179\n",
      "    ndcg: 0.5997\n",
      "    ndcg_cut_10: 0.5527\n",
      "-------------------------\n",
      "\n",
      "Query 3:\n",
      "    map: 0.1977\n",
      "    recip_rank: 1.0000\n",
      "    P_10: 0.9000\n",
      "    recall_10: 0.0138\n",
      "    ndcg: 0.7465\n",
      "    ndcg_cut_10: 0.9364\n",
      "-------------------------\n",
      "\n",
      "Query 4:\n",
      "    map: 0.0535\n",
      "    recip_rank: 0.1000\n",
      "    P_10: 0.1000\n",
      "    recall_10: 0.0018\n",
      "    ndcg: 0.5830\n",
      "    ndcg_cut_10: 0.0636\n",
      "-------------------------\n",
      "\n",
      "Query 5:\n",
      "    map: 0.1349\n",
      "    recip_rank: 0.3333\n",
      "    P_10: 0.4000\n",
      "    recall_10: 0.0062\n",
      "    ndcg: 0.6663\n",
      "    ndcg_cut_10: 0.2191\n",
      "-------------------------\n",
      "\n",
      "Query 6:\n",
      "    map: 0.2125\n",
      "    recip_rank: 1.0000\n",
      "    P_10: 0.8000\n",
      "    recall_10: 0.0080\n",
      "    ndcg: 0.7777\n",
      "    ndcg_cut_10: 0.8604\n",
      "-------------------------\n",
      "\n",
      "Query 7:\n",
      "    map: 0.3400\n",
      "    recip_rank: 1.0000\n",
      "    P_10: 1.0000\n",
      "    recall_10: 0.0191\n",
      "    ndcg: 0.8070\n",
      "    ndcg_cut_10: 1.0000\n",
      "-------------------------\n",
      "\n",
      "Query 8:\n",
      "    map: 0.0410\n",
      "    recip_rank: 0.1250\n",
      "    P_10: 0.1000\n",
      "    recall_10: 0.0015\n",
      "    ndcg: 0.5791\n",
      "    ndcg_cut_10: 0.0694\n",
      "-------------------------\n",
      "\n",
      "Query 9:\n",
      "    map: 0.0680\n",
      "    recip_rank: 1.0000\n",
      "    P_10: 0.5000\n",
      "    recall_10: 0.0239\n",
      "    ndcg: 0.5440\n",
      "    ndcg_cut_10: 0.4519\n",
      "-------------------------\n",
      "\n",
      "Query 10:\n",
      "    map: 0.2511\n",
      "    recip_rank: 1.0000\n",
      "    P_10: 0.6000\n",
      "    recall_10: 0.0121\n",
      "    ndcg: 0.7571\n",
      "    ndcg_cut_10: 0.7126\n",
      "-------------------------\n",
      "\n",
      "Query 11:\n",
      "    map: 0.0848\n",
      "    recip_rank: 1.0000\n",
      "    P_10: 0.5000\n",
      "    recall_10: 0.0113\n",
      "    ndcg: 0.6256\n",
      "    ndcg_cut_10: 0.5747\n",
      "-------------------------\n",
      "\n",
      "Query 12:\n",
      "    map: 0.0555\n",
      "    recip_rank: 1.0000\n",
      "    P_10: 0.5000\n",
      "    recall_10: 0.0077\n",
      "    ndcg: 0.5731\n",
      "    ndcg_cut_10: 0.2883\n",
      "-------------------------\n",
      "\n",
      "Query 13:\n",
      "    map: 0.1183\n",
      "    recip_rank: 1.0000\n",
      "    P_10: 0.5000\n",
      "    recall_10: 0.0054\n",
      "    ndcg: 0.6834\n",
      "    ndcg_cut_10: 0.5956\n",
      "-------------------------\n",
      "\n",
      "Query 14:\n",
      "    map: 0.0235\n",
      "    recip_rank: 1.0000\n",
      "    P_10: 0.3000\n",
      "    recall_10: 0.0110\n",
      "    ndcg: 0.4935\n",
      "    ndcg_cut_10: 0.4063\n",
      "-------------------------\n",
      "\n",
      "Query 15:\n",
      "    map: 0.1199\n",
      "    recip_rank: 1.0000\n",
      "    P_10: 0.9000\n",
      "    recall_10: 0.0202\n",
      "    ndcg: 0.6515\n",
      "    ndcg_cut_10: 0.7681\n",
      "-------------------------\n",
      "\n",
      "Query 16:\n",
      "    map: 0.1288\n",
      "    recip_rank: 1.0000\n",
      "    P_10: 1.0000\n",
      "    recall_10: 0.0244\n",
      "    ndcg: 0.6533\n",
      "    ndcg_cut_10: 0.9633\n",
      "-------------------------\n",
      "\n",
      "Query 17:\n",
      "    map: 0.1557\n",
      "    recip_rank: 1.0000\n",
      "    P_10: 1.0000\n",
      "    recall_10: 0.0139\n",
      "    ndcg: 0.6895\n",
      "    ndcg_cut_10: 0.9103\n",
      "-------------------------\n",
      "\n",
      "Query 18:\n",
      "    map: 0.2480\n",
      "    recip_rank: 1.0000\n",
      "    P_10: 0.6000\n",
      "    recall_10: 0.0090\n",
      "    ndcg: 0.7259\n",
      "    ndcg_cut_10: 0.5521\n",
      "-------------------------\n",
      "\n",
      "Query 19:\n",
      "    map: 0.1403\n",
      "    recip_rank: 1.0000\n",
      "    P_10: 1.0000\n",
      "    recall_10: 0.0855\n",
      "    ndcg: 0.5670\n",
      "    ndcg_cut_10: 0.7667\n",
      "-------------------------\n",
      "\n",
      "Query 20:\n",
      "    map: 0.3460\n",
      "    recip_rank: 1.0000\n",
      "    P_10: 1.0000\n",
      "    recall_10: 0.0132\n",
      "    ndcg: 0.8096\n",
      "    ndcg_cut_10: 1.0000\n",
      "-------------------------\n",
      "\n",
      "Query 21:\n",
      "    map: 0.1964\n",
      "    recip_rank: 1.0000\n",
      "    P_10: 0.7000\n",
      "    recall_10: 0.0107\n",
      "    ndcg: 0.7544\n",
      "    ndcg_cut_10: 0.7753\n",
      "-------------------------\n",
      "\n",
      "Query 22:\n",
      "    map: 0.2394\n",
      "    recip_rank: 1.0000\n",
      "    P_10: 0.8000\n",
      "    recall_10: 0.0134\n",
      "    ndcg: 0.7525\n",
      "    ndcg_cut_10: 0.7952\n",
      "-------------------------\n",
      "\n",
      "Query 23:\n",
      "    map: 0.1629\n",
      "    recip_rank: 1.0000\n",
      "    P_10: 0.9000\n",
      "    recall_10: 0.0228\n",
      "    ndcg: 0.6810\n",
      "    ndcg_cut_10: 0.8571\n",
      "-------------------------\n",
      "\n",
      "Query 24:\n",
      "    map: 0.2997\n",
      "    recip_rank: 1.0000\n",
      "    P_10: 0.9000\n",
      "    recall_10: 0.0200\n",
      "    ndcg: 0.7732\n",
      "    ndcg_cut_10: 0.9337\n",
      "-------------------------\n",
      "\n",
      "Query 25:\n",
      "    map: 0.0475\n",
      "    recip_rank: 0.0588\n",
      "    P_10: 0.0000\n",
      "    recall_10: 0.0000\n",
      "    ndcg: 0.5878\n",
      "    ndcg_cut_10: 0.0000\n",
      "-------------------------\n",
      "\n",
      "Query 26:\n",
      "    map: 0.1135\n",
      "    recip_rank: 1.0000\n",
      "    P_10: 0.6000\n",
      "    recall_10: 0.0072\n",
      "    ndcg: 0.7029\n",
      "    ndcg_cut_10: 0.6438\n",
      "-------------------------\n",
      "\n",
      "Query 27:\n",
      "    map: 0.1300\n",
      "    recip_rank: 1.0000\n",
      "    P_10: 1.0000\n",
      "    recall_10: 0.0111\n",
      "    ndcg: 0.7031\n",
      "    ndcg_cut_10: 0.9608\n",
      "-------------------------\n",
      "\n",
      "Query 28:\n",
      "    map: 0.4224\n",
      "    recip_rank: 1.0000\n",
      "    P_10: 0.9000\n",
      "    recall_10: 0.0146\n",
      "    ndcg: 0.8252\n",
      "    ndcg_cut_10: 0.8611\n",
      "-------------------------\n",
      "\n",
      "Query 29:\n",
      "    map: 0.2225\n",
      "    recip_rank: 1.0000\n",
      "    P_10: 0.6000\n",
      "    recall_10: 0.0092\n",
      "    ndcg: 0.7474\n",
      "    ndcg_cut_10: 0.6431\n",
      "-------------------------\n",
      "\n",
      "Query 30:\n",
      "    map: 0.3665\n",
      "    recip_rank: 1.0000\n",
      "    P_10: 1.0000\n",
      "    recall_10: 0.0248\n",
      "    ndcg: 0.7964\n",
      "    ndcg_cut_10: 0.9526\n",
      "-------------------------\n",
      "\n",
      "Query 31:\n",
      "    map: 0.0456\n",
      "    recip_rank: 0.2000\n",
      "    P_10: 0.5000\n",
      "    recall_10: 0.0135\n",
      "    ndcg: 0.5586\n",
      "    ndcg_cut_10: 0.3578\n",
      "-------------------------\n",
      "\n",
      "Query 32:\n",
      "    map: 0.0778\n",
      "    recip_rank: 0.3333\n",
      "    P_10: 0.4000\n",
      "    recall_10: 0.0175\n",
      "    ndcg: 0.5946\n",
      "    ndcg_cut_10: 0.3633\n",
      "-------------------------\n",
      "\n",
      "Query 33:\n",
      "    map: 0.0816\n",
      "    recip_rank: 0.5000\n",
      "    P_10: 0.7000\n",
      "    recall_10: 0.0228\n",
      "    ndcg: 0.6028\n",
      "    ndcg_cut_10: 0.5765\n",
      "-------------------------\n",
      "\n",
      "Query 34:\n",
      "    map: 0.0432\n",
      "    recip_rank: 0.1667\n",
      "    P_10: 0.4000\n",
      "    recall_10: 0.0202\n",
      "    ndcg: 0.5078\n",
      "    ndcg_cut_10: 0.2430\n",
      "-------------------------\n",
      "\n",
      "Query 35:\n",
      "    map: 0.0497\n",
      "    recip_rank: 0.2000\n",
      "    P_10: 0.3000\n",
      "    recall_10: 0.0126\n",
      "    ndcg: 0.5509\n",
      "    ndcg_cut_10: 0.2369\n",
      "-------------------------\n",
      "\n",
      "Query 36:\n",
      "    map: 0.4012\n",
      "    recip_rank: 1.0000\n",
      "    P_10: 0.9000\n",
      "    recall_10: 0.0133\n",
      "    ndcg: 0.8511\n",
      "    ndcg_cut_10: 0.8611\n",
      "-------------------------\n",
      "\n",
      "Query 37:\n",
      "    map: 0.2415\n",
      "    recip_rank: 1.0000\n",
      "    P_10: 0.7000\n",
      "    recall_10: 0.0136\n",
      "    ndcg: 0.7459\n",
      "    ndcg_cut_10: 0.5836\n",
      "-------------------------\n",
      "\n",
      "Query 38:\n",
      "    map: 0.2697\n",
      "    recip_rank: 1.0000\n",
      "    P_10: 0.9000\n",
      "    recall_10: 0.0065\n",
      "    ndcg: 0.7968\n",
      "    ndcg_cut_10: 0.8650\n",
      "-------------------------\n",
      "\n",
      "Query 39:\n",
      "    map: 0.3819\n",
      "    recip_rank: 1.0000\n",
      "    P_10: 0.8000\n",
      "    recall_10: 0.0082\n",
      "    ndcg: 0.8057\n",
      "    ndcg_cut_10: 0.5727\n",
      "-------------------------\n",
      "\n",
      "Query 40:\n",
      "    map: 0.4199\n",
      "    recip_rank: 1.0000\n",
      "    P_10: 1.0000\n",
      "    recall_10: 0.0170\n",
      "    ndcg: 0.8496\n",
      "    ndcg_cut_10: 1.0000\n",
      "-------------------------\n",
      "\n",
      "Query 41:\n",
      "    map: 0.3607\n",
      "    recip_rank: 1.0000\n",
      "    P_10: 0.9000\n",
      "    recall_10: 0.0253\n",
      "    ndcg: 0.7625\n",
      "    ndcg_cut_10: 0.8611\n",
      "-------------------------\n",
      "\n",
      "Query 42:\n",
      "    map: 0.3521\n",
      "    recip_rank: 1.0000\n",
      "    P_10: 1.0000\n",
      "    recall_10: 0.0360\n",
      "    ndcg: 0.7366\n",
      "    ndcg_cut_10: 1.0000\n",
      "-------------------------\n",
      "\n",
      "Query 43:\n",
      "    map: 0.1055\n",
      "    recip_rank: 1.0000\n",
      "    P_10: 0.6000\n",
      "    recall_10: 0.0200\n",
      "    ndcg: 0.6065\n",
      "    ndcg_cut_10: 0.6584\n",
      "-------------------------\n",
      "\n",
      "Query 44:\n",
      "    map: 0.2469\n",
      "    recip_rank: 1.0000\n",
      "    P_10: 1.0000\n",
      "    recall_10: 0.0185\n",
      "    ndcg: 0.7330\n",
      "    ndcg_cut_10: 1.0000\n",
      "-------------------------\n",
      "\n",
      "Query 45:\n",
      "    map: 0.3221\n",
      "    recip_rank: 1.0000\n",
      "    P_10: 0.9000\n",
      "    recall_10: 0.0100\n",
      "    ndcg: 0.7916\n",
      "    ndcg_cut_10: 0.7961\n",
      "-------------------------\n",
      "\n",
      "Query 46:\n",
      "    map: 0.1517\n",
      "    recip_rank: 1.0000\n",
      "    P_10: 0.9000\n",
      "    recall_10: 0.0450\n",
      "    ndcg: 0.6446\n",
      "    ndcg_cut_10: 0.8502\n",
      "-------------------------\n",
      "\n",
      "Query 47:\n",
      "    map: 0.1614\n",
      "    recip_rank: 1.0000\n",
      "    P_10: 0.5000\n",
      "    recall_10: 0.0107\n",
      "    ndcg: 0.6939\n",
      "    ndcg_cut_10: 0.5959\n",
      "-------------------------\n",
      "\n",
      "Query 48:\n",
      "    map: 0.1943\n",
      "    recip_rank: 1.0000\n",
      "    P_10: 0.9000\n",
      "    recall_10: 0.0187\n",
      "    ndcg: 0.7049\n",
      "    ndcg_cut_10: 0.8945\n",
      "-------------------------\n",
      "\n",
      "Query 49:\n",
      "    map: 0.1774\n",
      "    recip_rank: 0.5000\n",
      "    P_10: 0.4000\n",
      "    recall_10: 0.0150\n",
      "    ndcg: 0.6639\n",
      "    ndcg_cut_10: 0.3278\n",
      "-------------------------\n",
      "\n",
      "Query 50:\n",
      "    map: 0.1015\n",
      "    recip_rank: 1.0000\n",
      "    P_10: 0.5000\n",
      "    recall_10: 0.0336\n",
      "    ndcg: 0.5924\n",
      "    ndcg_cut_10: 0.5956\n",
      "-------------------------\n",
      "\n",
      "\n",
      "Per-query evaluation results saved to evaluation_results/base\\per_query_evaluation.csv\n"
     ]
    },
    {
     "data": {
      "text/plain": [
       "{'map': 0.18585182567772524,\n",
       " 'ndcg': 0.6865586940416332,\n",
       " 'ndcg_cut_10': 0.6569951008404138,\n",
       " 'P_10': 0.6879999999999998,\n",
       " 'recall_10': 0.01649486349187759,\n",
       " 'recip_rank': 0.840343137254902}"
      ]
     },
     "execution_count": 11,
     "metadata": {},
     "output_type": "execute_result"
    }
   ],
   "source": [
    "evaluate_rankings(model=Model.BASE, dataset_name=cord19)"
   ]
  },
  {
   "cell_type": "code",
   "execution_count": 14,
   "metadata": {},
   "outputs": [
    {
     "name": "stdout",
     "output_type": "stream",
     "text": [
      "Evaluating rankings with metrics@10...\n",
      "Loaded 9625450 ranking entries\n",
      "\n",
      "=== Evaluation Results ===\n",
      "map: 0.0033\n",
      "ndcg: 0.4235\n",
      "ndcg_cut_10: 0.0000\n",
      "P_10: 0.0000\n",
      "recall_10: 0.0000\n",
      "recip_rank: 0.0026\n",
      "\n",
      "Evaluation results saved to evaluation_results/contrastive\\evaluation_results.csv\n",
      "\n",
      "Per-query evaluation results:\n",
      "Query 1:\n",
      "    map: 0.0046\n",
      "    recip_rank: 0.0021\n",
      "    P_10: 0.0000\n",
      "    recall_10: 0.0000\n",
      "    ndcg: 0.4614\n",
      "    ndcg_cut_10: 0.0000\n",
      "-------------------------\n",
      "\n",
      "Query 2:\n",
      "    map: 0.0060\n",
      "    recip_rank: 0.0078\n",
      "    P_10: 0.0000\n",
      "    recall_10: 0.0000\n",
      "    ndcg: 0.4451\n",
      "    ndcg_cut_10: 0.0000\n",
      "-------------------------\n",
      "\n",
      "Query 3:\n",
      "    map: 0.0031\n",
      "    recip_rank: 0.0004\n",
      "    P_10: 0.0000\n",
      "    recall_10: 0.0000\n",
      "    ndcg: 0.4277\n",
      "    ndcg_cut_10: 0.0000\n",
      "-------------------------\n",
      "\n",
      "Query 4:\n",
      "    map: 0.0031\n",
      "    recip_rank: 0.0022\n",
      "    P_10: 0.0000\n",
      "    recall_10: 0.0000\n",
      "    ndcg: 0.4253\n",
      "    ndcg_cut_10: 0.0000\n",
      "-------------------------\n",
      "\n",
      "Query 5:\n",
      "    map: 0.0036\n",
      "    recip_rank: 0.0002\n",
      "    P_10: 0.0000\n",
      "    recall_10: 0.0000\n",
      "    ndcg: 0.4386\n",
      "    ndcg_cut_10: 0.0000\n",
      "-------------------------\n",
      "\n",
      "Query 6:\n",
      "    map: 0.0060\n",
      "    recip_rank: 0.0012\n",
      "    P_10: 0.0000\n",
      "    recall_10: 0.0000\n",
      "    ndcg: 0.4948\n",
      "    ndcg_cut_10: 0.0000\n",
      "-------------------------\n",
      "\n",
      "Query 7:\n",
      "    map: 0.0029\n",
      "    recip_rank: 0.0003\n",
      "    P_10: 0.0000\n",
      "    recall_10: 0.0000\n",
      "    ndcg: 0.4412\n",
      "    ndcg_cut_10: 0.0000\n",
      "-------------------------\n",
      "\n",
      "Query 8:\n",
      "    map: 0.0058\n",
      "    recip_rank: 0.0019\n",
      "    P_10: 0.0000\n",
      "    recall_10: 0.0000\n",
      "    ndcg: 0.4634\n",
      "    ndcg_cut_10: 0.0000\n",
      "-------------------------\n",
      "\n",
      "Query 9:\n",
      "    map: 0.0018\n",
      "    recip_rank: 0.0021\n",
      "    P_10: 0.0000\n",
      "    recall_10: 0.0000\n",
      "    ndcg: 0.3580\n",
      "    ndcg_cut_10: 0.0000\n",
      "-------------------------\n",
      "\n",
      "Query 10:\n",
      "    map: 0.0054\n",
      "    recip_rank: 0.0089\n",
      "    P_10: 0.0000\n",
      "    recall_10: 0.0000\n",
      "    ndcg: 0.4536\n",
      "    ndcg_cut_10: 0.0000\n",
      "-------------------------\n",
      "\n",
      "Query 11:\n",
      "    map: 0.0028\n",
      "    recip_rank: 0.0003\n",
      "    P_10: 0.0000\n",
      "    recall_10: 0.0000\n",
      "    ndcg: 0.4126\n",
      "    ndcg_cut_10: 0.0000\n",
      "-------------------------\n",
      "\n",
      "Query 12:\n",
      "    map: 0.0046\n",
      "    recip_rank: 0.0025\n",
      "    P_10: 0.0000\n",
      "    recall_10: 0.0000\n",
      "    ndcg: 0.4598\n",
      "    ndcg_cut_10: 0.0000\n",
      "-------------------------\n",
      "\n",
      "Query 13:\n",
      "    map: 0.0082\n",
      "    recip_rank: 0.0154\n",
      "    P_10: 0.0000\n",
      "    recall_10: 0.0000\n",
      "    ndcg: 0.4936\n",
      "    ndcg_cut_10: 0.0000\n",
      "-------------------------\n",
      "\n",
      "Query 14:\n",
      "    map: 0.0020\n",
      "    recip_rank: 0.0035\n",
      "    P_10: 0.0000\n",
      "    recall_10: 0.0000\n",
      "    ndcg: 0.3694\n",
      "    ndcg_cut_10: 0.0000\n",
      "-------------------------\n",
      "\n",
      "Query 15:\n",
      "    map: 0.0036\n",
      "    recip_rank: 0.0018\n",
      "    P_10: 0.0000\n",
      "    recall_10: 0.0000\n",
      "    ndcg: 0.4215\n",
      "    ndcg_cut_10: 0.0000\n",
      "-------------------------\n",
      "\n",
      "Query 16:\n",
      "    map: 0.0028\n",
      "    recip_rank: 0.0035\n",
      "    P_10: 0.0000\n",
      "    recall_10: 0.0000\n",
      "    ndcg: 0.4077\n",
      "    ndcg_cut_10: 0.0000\n",
      "-------------------------\n",
      "\n",
      "Query 17:\n",
      "    map: 0.0038\n",
      "    recip_rank: 0.0005\n",
      "    P_10: 0.0000\n",
      "    recall_10: 0.0000\n",
      "    ndcg: 0.4504\n",
      "    ndcg_cut_10: 0.0000\n",
      "-------------------------\n",
      "\n",
      "Query 18:\n",
      "    map: 0.0037\n",
      "    recip_rank: 0.0010\n",
      "    P_10: 0.0000\n",
      "    recall_10: 0.0000\n",
      "    ndcg: 0.4496\n",
      "    ndcg_cut_10: 0.0000\n",
      "-------------------------\n",
      "\n",
      "Query 19:\n",
      "    map: 0.0012\n",
      "    recip_rank: 0.0025\n",
      "    P_10: 0.0000\n",
      "    recall_10: 0.0000\n",
      "    ndcg: 0.3044\n",
      "    ndcg_cut_10: 0.0000\n",
      "-------------------------\n",
      "\n",
      "Query 20:\n",
      "    map: 0.0039\n",
      "    recip_rank: 0.0006\n",
      "    P_10: 0.0000\n",
      "    recall_10: 0.0000\n",
      "    ndcg: 0.4617\n",
      "    ndcg_cut_10: 0.0000\n",
      "-------------------------\n",
      "\n",
      "Query 21:\n",
      "    map: 0.0047\n",
      "    recip_rank: 0.0143\n",
      "    P_10: 0.0000\n",
      "    recall_10: 0.0000\n",
      "    ndcg: 0.4776\n",
      "    ndcg_cut_10: 0.0000\n",
      "-------------------------\n",
      "\n",
      "Query 22:\n",
      "    map: 0.0027\n",
      "    recip_rank: 0.0010\n",
      "    P_10: 0.0000\n",
      "    recall_10: 0.0000\n",
      "    ndcg: 0.4327\n",
      "    ndcg_cut_10: 0.0000\n",
      "-------------------------\n",
      "\n",
      "Query 23:\n",
      "    map: 0.0021\n",
      "    recip_rank: 0.0004\n",
      "    P_10: 0.0000\n",
      "    recall_10: 0.0000\n",
      "    ndcg: 0.3964\n",
      "    ndcg_cut_10: 0.0000\n",
      "-------------------------\n",
      "\n",
      "Query 24:\n",
      "    map: 0.0024\n",
      "    recip_rank: 0.0005\n",
      "    P_10: 0.0000\n",
      "    recall_10: 0.0000\n",
      "    ndcg: 0.4174\n",
      "    ndcg_cut_10: 0.0000\n",
      "-------------------------\n",
      "\n",
      "Query 25:\n",
      "    map: 0.0036\n",
      "    recip_rank: 0.0003\n",
      "    P_10: 0.0000\n",
      "    recall_10: 0.0000\n",
      "    ndcg: 0.4438\n",
      "    ndcg_cut_10: 0.0000\n",
      "-------------------------\n",
      "\n",
      "Query 26:\n",
      "    map: 0.0046\n",
      "    recip_rank: 0.0006\n",
      "    P_10: 0.0000\n",
      "    recall_10: 0.0000\n",
      "    ndcg: 0.4809\n",
      "    ndcg_cut_10: 0.0000\n",
      "-------------------------\n",
      "\n",
      "Query 27:\n",
      "    map: 0.0051\n",
      "    recip_rank: 0.0054\n",
      "    P_10: 0.0000\n",
      "    recall_10: 0.0000\n",
      "    ndcg: 0.4696\n",
      "    ndcg_cut_10: 0.0000\n",
      "-------------------------\n",
      "\n",
      "Query 28:\n",
      "    map: 0.0031\n",
      "    recip_rank: 0.0003\n",
      "    P_10: 0.0000\n",
      "    recall_10: 0.0000\n",
      "    ndcg: 0.4520\n",
      "    ndcg_cut_10: 0.0000\n",
      "-------------------------\n",
      "\n",
      "Query 29:\n",
      "    map: 0.0037\n",
      "    recip_rank: 0.0002\n",
      "    P_10: 0.0000\n",
      "    recall_10: 0.0000\n",
      "    ndcg: 0.4460\n",
      "    ndcg_cut_10: 0.0000\n",
      "-------------------------\n",
      "\n",
      "Query 30:\n",
      "    map: 0.0019\n",
      "    recip_rank: 0.0004\n",
      "    P_10: 0.0000\n",
      "    recall_10: 0.0000\n",
      "    ndcg: 0.3894\n",
      "    ndcg_cut_10: 0.0000\n",
      "-------------------------\n",
      "\n",
      "Query 31:\n",
      "    map: 0.0023\n",
      "    recip_rank: 0.0033\n",
      "    P_10: 0.0000\n",
      "    recall_10: 0.0000\n",
      "    ndcg: 0.3946\n",
      "    ndcg_cut_10: 0.0000\n",
      "-------------------------\n",
      "\n",
      "Query 32:\n",
      "    map: 0.0015\n",
      "    recip_rank: 0.0002\n",
      "    P_10: 0.0000\n",
      "    recall_10: 0.0000\n",
      "    ndcg: 0.3616\n",
      "    ndcg_cut_10: 0.0000\n",
      "-------------------------\n",
      "\n",
      "Query 33:\n",
      "    map: 0.0016\n",
      "    recip_rank: 0.0004\n",
      "    P_10: 0.0000\n",
      "    recall_10: 0.0000\n",
      "    ndcg: 0.3754\n",
      "    ndcg_cut_10: 0.0000\n",
      "-------------------------\n",
      "\n",
      "Query 34:\n",
      "    map: 0.0010\n",
      "    recip_rank: 0.0002\n",
      "    P_10: 0.0000\n",
      "    recall_10: 0.0000\n",
      "    ndcg: 0.3366\n",
      "    ndcg_cut_10: 0.0000\n",
      "-------------------------\n",
      "\n",
      "Query 35:\n",
      "    map: 0.0015\n",
      "    recip_rank: 0.0012\n",
      "    P_10: 0.0000\n",
      "    recall_10: 0.0000\n",
      "    ndcg: 0.3735\n",
      "    ndcg_cut_10: 0.0000\n",
      "-------------------------\n",
      "\n",
      "Query 36:\n",
      "    map: 0.0037\n",
      "    recip_rank: 0.0002\n",
      "    P_10: 0.0000\n",
      "    recall_10: 0.0000\n",
      "    ndcg: 0.4616\n",
      "    ndcg_cut_10: 0.0000\n",
      "-------------------------\n",
      "\n",
      "Query 37:\n",
      "    map: 0.0032\n",
      "    recip_rank: 0.0005\n",
      "    P_10: 0.0000\n",
      "    recall_10: 0.0000\n",
      "    ndcg: 0.4380\n",
      "    ndcg_cut_10: 0.0000\n",
      "-------------------------\n",
      "\n",
      "Query 38:\n",
      "    map: 0.0077\n",
      "    recip_rank: 0.0172\n",
      "    P_10: 0.0000\n",
      "    recall_10: 0.0000\n",
      "    ndcg: 0.5175\n",
      "    ndcg_cut_10: 0.0000\n",
      "-------------------------\n",
      "\n",
      "Query 39:\n",
      "    map: 0.0048\n",
      "    recip_rank: 0.0012\n",
      "    P_10: 0.0000\n",
      "    recall_10: 0.0000\n",
      "    ndcg: 0.4789\n",
      "    ndcg_cut_10: 0.0000\n",
      "-------------------------\n",
      "\n",
      "Query 40:\n",
      "    map: 0.0038\n",
      "    recip_rank: 0.0012\n",
      "    P_10: 0.0000\n",
      "    recall_10: 0.0000\n",
      "    ndcg: 0.4494\n",
      "    ndcg_cut_10: 0.0000\n",
      "-------------------------\n",
      "\n",
      "Query 41:\n",
      "    map: 0.0018\n",
      "    recip_rank: 0.0016\n",
      "    P_10: 0.0000\n",
      "    recall_10: 0.0000\n",
      "    ndcg: 0.3973\n",
      "    ndcg_cut_10: 0.0000\n",
      "-------------------------\n",
      "\n",
      "Query 42:\n",
      "    map: 0.0019\n",
      "    recip_rank: 0.0125\n",
      "    P_10: 0.0000\n",
      "    recall_10: 0.0000\n",
      "    ndcg: 0.3938\n",
      "    ndcg_cut_10: 0.0000\n",
      "-------------------------\n",
      "\n",
      "Query 43:\n",
      "    map: 0.0014\n",
      "    recip_rank: 0.0019\n",
      "    P_10: 0.0000\n",
      "    recall_10: 0.0000\n",
      "    ndcg: 0.3747\n",
      "    ndcg_cut_10: 0.0000\n",
      "-------------------------\n",
      "\n",
      "Query 44:\n",
      "    map: 0.0029\n",
      "    recip_rank: 0.0005\n",
      "    P_10: 0.0000\n",
      "    recall_10: 0.0000\n",
      "    ndcg: 0.4342\n",
      "    ndcg_cut_10: 0.0000\n",
      "-------------------------\n",
      "\n",
      "Query 45:\n",
      "    map: 0.0055\n",
      "    recip_rank: 0.0019\n",
      "    P_10: 0.0000\n",
      "    recall_10: 0.0000\n",
      "    ndcg: 0.4902\n",
      "    ndcg_cut_10: 0.0000\n",
      "-------------------------\n",
      "\n",
      "Query 46:\n",
      "    map: 0.0011\n",
      "    recip_rank: 0.0003\n",
      "    P_10: 0.0000\n",
      "    recall_10: 0.0000\n",
      "    ndcg: 0.3368\n",
      "    ndcg_cut_10: 0.0000\n",
      "-------------------------\n",
      "\n",
      "Query 47:\n",
      "    map: 0.0026\n",
      "    recip_rank: 0.0004\n",
      "    P_10: 0.0000\n",
      "    recall_10: 0.0000\n",
      "    ndcg: 0.4244\n",
      "    ndcg_cut_10: 0.0000\n",
      "-------------------------\n",
      "\n",
      "Query 48:\n",
      "    map: 0.0038\n",
      "    recip_rank: 0.0015\n",
      "    P_10: 0.0000\n",
      "    recall_10: 0.0000\n",
      "    ndcg: 0.4346\n",
      "    ndcg_cut_10: 0.0000\n",
      "-------------------------\n",
      "\n",
      "Query 49:\n",
      "    map: 0.0014\n",
      "    recip_rank: 0.0008\n",
      "    P_10: 0.0000\n",
      "    recall_10: 0.0000\n",
      "    ndcg: 0.3577\n",
      "    ndcg_cut_10: 0.0000\n",
      "-------------------------\n",
      "\n",
      "Query 50:\n",
      "    map: 0.0007\n",
      "    recip_rank: 0.0002\n",
      "    P_10: 0.0000\n",
      "    recall_10: 0.0000\n",
      "    ndcg: 0.2999\n",
      "    ndcg_cut_10: 0.0000\n",
      "-------------------------\n",
      "\n",
      "\n",
      "Per-query evaluation results saved to evaluation_results/contrastive\\per_query_evaluation.csv\n"
     ]
    },
    {
     "data": {
      "text/plain": [
       "{'map': 0.003338411312322189,\n",
       " 'ndcg': 0.42352346833935955,\n",
       " 'ndcg_cut_10': 0.0,\n",
       " 'P_10': 0.0,\n",
       " 'recall_10': 0.0,\n",
       " 'recip_rank': 0.002590893580737511}"
      ]
     },
     "execution_count": 14,
     "metadata": {},
     "output_type": "execute_result"
    }
   ],
   "source": [
    "evaluate_rankings(model=Model.CONTRASTIVE, dataset_name=cord19)"
   ]
  }
 ],
 "metadata": {
  "kernelspec": {
   "display_name": ".venv",
   "language": "python",
   "name": "python3"
  },
  "language_info": {
   "codemirror_mode": {
    "name": "ipython",
    "version": 3
   },
   "file_extension": ".py",
   "mimetype": "text/x-python",
   "name": "python",
   "nbconvert_exporter": "python",
   "pygments_lexer": "ipython3",
   "version": "3.11.9"
  }
 },
 "nbformat": 4,
 "nbformat_minor": 2
}
